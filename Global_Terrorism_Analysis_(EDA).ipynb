{
  "nbformat": 4,
  "nbformat_minor": 0,
  "metadata": {
    "colab": {
      "provenance": [],
      "toc_visible": true,
      "mount_file_id": "1cceEvjIaAWE82Nj6h7NxLEpDNOyrVt1T",
      "authorship_tag": "ABX9TyO5uIDMjI23vvIbJtmVbB+J",
      "include_colab_link": true
    },
    "kernelspec": {
      "name": "python3",
      "display_name": "Python 3"
    },
    "language_info": {
      "name": "python"
    }
  },
  "cells": [
    {
      "cell_type": "markdown",
      "metadata": {
        "id": "view-in-github",
        "colab_type": "text"
      },
      "source": [
        "<a href=\"https://colab.research.google.com/github/sandhyamandoli7/Awesome-Cybersecurity-Handbooks/blob/main/Global_Terrorism_Analysis_(EDA).ipynb\" target=\"_parent\"><img src=\"https://colab.research.google.com/assets/colab-badge.svg\" alt=\"Open In Colab\"/></a>"
      ]
    },
    {
      "cell_type": "markdown",
      "source": [
        "Global Terrorism Analysis"
      ],
      "metadata": {
        "id": "7Q6Ibip8icl_"
      }
    },
    {
      "cell_type": "markdown",
      "source": [
        "Global Terrorism Analysis\n",
        "Explore and analyze the data to discover key findings pertaining to terrorist activities.\n",
        "The Global Terrorism Database (GTD) is an open-source database including information on terrorist attacks around the world from 1970 through 2017.\n",
        "\n",
        "The GTD includes systematic data on domestic as well as international terrorist incidents that have occurred during this time period and now includes more than 180,000 attacks.\n",
        "\n",
        "The database is maintained by researchers at the National Consortium for the Study of Terrorism and Responses to Terrorism (START), headquartered at the University of Maryland.\n",
        "\n"
      ],
      "metadata": {
        "id": "MOeYJrIhhY5O"
      }
    },
    {
      "cell_type": "markdown",
      "source": [],
      "metadata": {
        "id": "eArOxLSJiZ-S"
      }
    },
    {
      "cell_type": "markdown",
      "source": [
        "IMPORT LIBRARIES"
      ],
      "metadata": {
        "id": "QO9eJkzrjPm8"
      }
    },
    {
      "cell_type": "code",
      "source": [
        "\n",
        "import pandas as pd\n",
        "import missingno as msno\n",
        "import numpy as np\n",
        "import matplotlib.pyplot as plt\n",
        "%matplotlib inline\n",
        "import seaborn as sns"
      ],
      "metadata": {
        "id": "2Y_5RoTpWbJ-"
      },
      "execution_count": 20,
      "outputs": []
    },
    {
      "cell_type": "markdown",
      "source": [
        "Loading Dataset"
      ],
      "metadata": {
        "id": "F6AH3wqFiDYX"
      }
    },
    {
      "cell_type": "code",
      "source": [
        "df = pd.read_csv(\"/content/Global Terrorism Data (1).csv\"\n",
        "                 ,engine=\"python\"\n",
        "                 ,encoding= \"ISO-8859-1\")"
      ],
      "metadata": {
        "id": "hWWt4OTMWxV_"
      },
      "execution_count": 22,
      "outputs": []
    },
    {
      "cell_type": "code",
      "source": [],
      "metadata": {
        "id": "V1bVMH2FhStP"
      },
      "execution_count": null,
      "outputs": []
    },
    {
      "cell_type": "code",
      "source": [],
      "metadata": {
        "id": "_umAXZWefVlN"
      },
      "execution_count": null,
      "outputs": []
    }
  ]
}